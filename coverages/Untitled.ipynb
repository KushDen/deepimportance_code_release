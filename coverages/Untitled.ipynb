{
 "cells": [
  {
   "cell_type": "code",
   "execution_count": null,
   "metadata": {},
   "outputs": [],
   "source": [
    "from keras.models import load_model, Model\n",
    "\n",
    "class Doubt:\n",
    "    def __init__(self, model, train_inputs, batch_size):\n",
    "        self.model = model\n",
    "        self.batch_size = batch_size\n",
    "        \n",
    "    def test(self, test_inputs):\n",
    "        prediction = self.model.predict(test_inputs, batch_size=self.batch_size, verbose=1)\n",
    "        print(prediction)\n",
    "    return prediction"
   ]
  }
 ],
 "metadata": {
  "kernelspec": {
   "display_name": "Python 3",
   "language": "python",
   "name": "python3"
  },
  "language_info": {
   "codemirror_mode": {
    "name": "ipython",
    "version": 3
   },
   "file_extension": ".py",
   "mimetype": "text/x-python",
   "name": "python",
   "nbconvert_exporter": "python",
   "pygments_lexer": "ipython3",
   "version": "3.6.9"
  }
 },
 "nbformat": 4,
 "nbformat_minor": 2
}
